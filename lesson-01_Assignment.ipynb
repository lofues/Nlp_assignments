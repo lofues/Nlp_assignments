{
 "cells": [
  {
   "cell_type": "markdown",
   "metadata": {},
   "source": [
    "## 基础理论部分"
   ]
  },
  {
   "cell_type": "markdown",
   "metadata": {},
   "source": [
    "### 0. Can you come up out 3 sceneraies which use AI methods?\n"
   ]
  },
  {
   "cell_type": "markdown",
   "metadata": {},
   "source": [
    "##### Ans：广告推送、自动驾驶、商品推荐、机器人自动化"
   ]
  },
  {
   "cell_type": "markdown",
   "metadata": {},
   "source": [
    "### 1. How do we use Github; Why do we use Jupyter and Pycharm;"
   ]
  },
  {
   "cell_type": "markdown",
   "metadata": {},
   "source": [
    "##### Ans:Github用来托管代码，可以完成多人合作开发的任务，个人可以通过fork获取他人的代码与文件、通过commit提交对自己与他人的代码修改\n",
    "#### 使用Jupter可以方便使用各种python工具，即时显示函数图像、统计图表等，模拟实验环境\n",
    "#### 使用Pycharm来进行中大型python项目的开发"
   ]
  },
  {
   "cell_type": "markdown",
   "metadata": {},
   "source": [
    "### 2. What's the Probability Model?"
   ]
  },
  {
   "cell_type": "markdown",
   "metadata": {},
   "source": [
    "##### Ans：概率模型是用来描述不同随机变量之间关系的数学模型，通常情况下刻画了一个或多个随机变量之间的相互非确定性的概率关系。从数学上讲，该模型通常被表达为(Y,P)，其中 Y 是观测集合用来描述可能的观测结果， P 是 Y 对应的概率分布函数集合。若使用概率模型，一般而言需假设存在一个确定的分布P 生成观测数据 Y 。因此通常使用统计推断的办法确定集合 P 中谁是数据产生的原因。"
   ]
  },
  {
   "cell_type": "markdown",
   "metadata": {},
   "source": [
    "### 3. Can you came up with some sceneraies at which we could use Probability Model?"
   ]
  },
  {
   "cell_type": "markdown",
   "metadata": {},
   "source": [
    "##### Ans：股票分析、赌博、娃娃机等"
   ]
  },
  {
   "cell_type": "markdown",
   "metadata": {},
   "source": [
    "### 4. Why do we use probability and what's the difficult points for programming based on parsing and pattern match?"
   ]
  },
  {
   "cell_type": "markdown",
   "metadata": {},
   "source": [
    "##### Ans:使用概率模型可以尽可能模拟现实生活的场景；现实事务的数学抽象过程"
   ]
  },
  {
   "cell_type": "markdown",
   "metadata": {},
   "source": [
    "### 5. What's the Language Model;"
   ]
  },
  {
   "cell_type": "markdown",
   "metadata": {},
   "source": [
    "##### Ans:语言模型是通过一个语音识别器来定义一系列的词的东西。一些语言模型还会给每一个词序列一个权重或者概率，来当做这个词序列的language score，来彰显词序列的重要程度。有了语言模型，不符合语法规则或者看着就不像句子的输出就可以直接被排除掉，识别错误的情况也会大大减小。"
   ]
  },
  {
   "cell_type": "markdown",
   "metadata": {},
   "source": [
    "### 6. Can you came up with some sceneraies at which we could use Language Model?"
   ]
  },
  {
   "cell_type": "markdown",
   "metadata": {},
   "source": [
    "##### Ans:Siri等聊天机器人的语言生成"
   ]
  },
  {
   "cell_type": "markdown",
   "metadata": {},
   "source": [
    "### 7. What's the 1-gram language model？"
   ]
  },
  {
   "cell_type": "markdown",
   "metadata": {},
   "source": [
    "##### Ans:1-gram假设一个语句中的每个单词是独立的不受其他单词存在的影响"
   ]
  },
  {
   "cell_type": "markdown",
   "metadata": {},
   "source": [
    "### 8. What's the disadvantages and advantages of 1-gram language model？"
   ]
  },
  {
   "cell_type": "markdown",
   "metadata": {},
   "source": [
    "##### Ans:缺点是不符合现实规律；优点是统计简单"
   ]
  },
  {
   "cell_type": "markdown",
   "metadata": {},
   "source": [
    "### 9. What't the 2-gram models？"
   ]
  },
  {
   "cell_type": "markdown",
   "metadata": {},
   "source": [
    "##### Ans:2-gram概率模型是指在一个语句中一个单词的合理性概率受其相邻一个单词的影响，计算合理性概率时要把相邻单词存在的概率计算在内"
   ]
  },
  {
   "cell_type": "markdown",
   "metadata": {},
   "source": [
    "## 编程实践部分"
   ]
  },
  {
   "cell_type": "markdown",
   "metadata": {},
   "source": [
    "### 0.设计自己的句子生成器"
   ]
  },
  {
   "cell_type": "markdown",
   "metadata": {},
   "source": [
    "##### 在火影忍者中一个‘忍者’的语言可以定义为："
   ]
  },
  {
   "cell_type": "code",
   "execution_count": 185,
   "metadata": {},
   "outputs": [],
   "source": [
    "first_grammar = '''\n",
    "ninja => 名词词组 动词词组\n",
    "名词词组 => 量词 形容词* 名词\n",
    "形容词* => null | 形容词 形容词*\n",
    "动词词组 => 动词 名词词组\n",
    "量词 => 一个 | 这个 | 一个村的 |  一个小队的 | null\n",
    "名词 => 螺旋丸 | 螺旋手里剑 | 千鸟 | 无限月读 | 须佐能乎 | 神罗天征 | 鸣人 | 佐助 | 辉夜 | 宇智波班 | 佩恩\n",
    "动词 => 使用 | 击败了 | 打倒了 | 打败了 | 击溃了\n",
    "形容词 => 火之国的 | 水之国的 | 忍术强的 | 幻术强的 | 体术强的 | null\n",
    "'''"
   ]
  },
  {
   "cell_type": "code",
   "execution_count": 186,
   "metadata": {},
   "outputs": [],
   "source": [
    "def create_grammar(grammar_str, split='=>', line_split='\\n'):\n",
    "    grammar = {}\n",
    "    for line in grammar_str.split(line_split):\n",
    "        if not line.strip(): continue\n",
    "        exp, stmt = line.split(split)\n",
    "        grammar[exp.strip()] = [s.split() for s in stmt.split('|')]\n",
    "    return grammar"
   ]
  },
  {
   "cell_type": "code",
   "execution_count": 187,
   "metadata": {},
   "outputs": [
    {
     "data": {
      "text/plain": [
       "{'ninja': [['名词词组', '动词词组']],\n",
       " '名词词组': [['量词', '形容词*', '名词']],\n",
       " '形容词*': [['null'], ['形容词', '形容词*']],\n",
       " '动词词组': [['动词', '名词词组']],\n",
       " '量词': [['一个'], ['这个'], ['一个村的'], ['一个小队的'], ['null']],\n",
       " '名词': [['螺旋丸'],\n",
       "  ['螺旋手里剑'],\n",
       "  ['千鸟'],\n",
       "  ['无限月读'],\n",
       "  ['须佐能乎'],\n",
       "  ['神罗天征'],\n",
       "  ['鸣人'],\n",
       "  ['佐助'],\n",
       "  ['辉夜'],\n",
       "  ['宇智波班'],\n",
       "  ['佩恩']],\n",
       " '动词': [['使用'], ['击败了'], ['打倒了'], ['打败了'], ['击溃了']],\n",
       " '形容词': [['火之国的'], ['水之国的'], ['忍术强的'], ['幻术强的'], ['体术强的'], ['null']]}"
      ]
     },
     "execution_count": 187,
     "metadata": {},
     "output_type": "execute_result"
    }
   ],
   "source": [
    "create_grammar(first_grammar)"
   ]
  },
  {
   "cell_type": "code",
   "execution_count": 188,
   "metadata": {},
   "outputs": [],
   "source": [
    "import random\n",
    "choice = random.choice\n",
    "\n",
    "def generate(gram, target):\n",
    "    if target not in gram: return target # means target is a terminal expression\n",
    "    \n",
    "    expaned = [generate(gram, t) for t in choice(gram[target])]\n",
    "    return ''.join([e if e != '/n' else '\\n' for e in expaned if e != 'null'])"
   ]
  },
  {
   "cell_type": "code",
   "execution_count": 189,
   "metadata": {},
   "outputs": [
    {
     "data": {
      "text/plain": [
       "'佩恩打倒了一个村的千鸟'"
      ]
     },
     "execution_count": 189,
     "metadata": {},
     "output_type": "execute_result"
    }
   ],
   "source": [
    "generate(create_grammar(first_grammar),'ninja')"
   ]
  },
  {
   "cell_type": "markdown",
   "metadata": {},
   "source": [
    "##### 在海贼王中一个海贼可以这么形容："
   ]
  },
  {
   "cell_type": "code",
   "execution_count": 190,
   "metadata": {},
   "outputs": [],
   "source": [
    "second_grammar = '''\n",
    "poacher => 主 谓 宾\n",
    "主 => 路飞 | 索隆 | 香吉士\n",
    "谓 => 吃过 | 拥有\n",
    "宾* => null | 宾 宾*\n",
    "宾 => 橡胶果实 | 面子果实 | 响雷果实 | 霸王色霸气 | 武装色霸气 | 见闻色霸气\n",
    "'''"
   ]
  },
  {
   "cell_type": "code",
   "execution_count": 191,
   "metadata": {},
   "outputs": [
    {
     "data": {
      "text/plain": [
       "'香吉士拥有霸王色霸气'"
      ]
     },
     "execution_count": 191,
     "metadata": {},
     "output_type": "execute_result"
    }
   ],
   "source": [
    "generate(create_grammar(second_grammar),'poacher')"
   ]
  },
  {
   "cell_type": "code",
   "execution_count": 192,
   "metadata": {},
   "outputs": [],
   "source": [
    "def generate_n(gram, target,n):\n",
    "    for i in range(n):\n",
    "        print('{}.:{}'.format(i+1,generate(gram,target)))"
   ]
  },
  {
   "cell_type": "code",
   "execution_count": 193,
   "metadata": {},
   "outputs": [
    {
     "name": "stdout",
     "output_type": "stream",
     "text": [
      "1.:香吉士拥有橡胶果实\n",
      "2.:香吉士拥有霸王色霸气\n",
      "3.:索隆拥有见闻色霸气\n",
      "4.:索隆拥有橡胶果实\n",
      "5.:索隆拥有响雷果实\n",
      "6.:路飞拥有霸王色霸气\n",
      "7.:路飞吃过见闻色霸气\n",
      "8.:香吉士吃过响雷果实\n",
      "9.:香吉士吃过见闻色霸气\n",
      "10.:香吉士拥有响雷果实\n"
     ]
    }
   ],
   "source": [
    "generate_n(create_grammar(second_grammar),'poacher',10)"
   ]
  },
  {
   "cell_type": "code",
   "execution_count": 194,
   "metadata": {},
   "outputs": [
    {
     "name": "stdout",
     "output_type": "stream",
     "text": [
      "1.:一个村的幻术强的幻术强的忍术强的佩恩打倒了一个无限月读\n",
      "2.:一个小队的螺旋手里剑击溃了千鸟\n",
      "3.:一个小队的幻术强的螺旋手里剑击败了一个小队的佩恩\n",
      "4.:一个螺旋丸击败了幻术强的水之国的佐助\n",
      "5.:佐助打败了一个水之国的鸣人\n",
      "6.:一个体术强的须佐能乎使用螺旋手里剑\n",
      "7.:一个小队的千鸟打倒了一个辉夜\n",
      "8.:一个体术强的须佐能乎打败了一个小队的水之国的忍术强的忍术强的无限月读\n",
      "9.:一个幻术强的忍术强的幻术强的螺旋手里剑击溃了一个小队的无限月读\n",
      "10.:一个小队的幻术强的忍术强的宇智波班打败了一个小队的水之国的螺旋丸\n"
     ]
    }
   ],
   "source": [
    "generate_n(create_grammar(first_grammar),'ninja',10 )"
   ]
  },
  {
   "cell_type": "markdown",
   "metadata": {},
   "source": [
    "### 1.使用新数据源完成语言模型的训练"
   ]
  },
  {
   "cell_type": "code",
   "execution_count": 195,
   "metadata": {},
   "outputs": [],
   "source": [
    "filename1 = 'C:/Users/Pinkman/Desktop/AI_Nlp/Class_1_6.30/train.txt'\n",
    "store_filename1 = 'C:/Users/Pinkman/Desktop/AI_Nlp/Class_1_6.30/train_clean.txt'"
   ]
  },
  {
   "cell_type": "code",
   "execution_count": 196,
   "metadata": {},
   "outputs": [
    {
     "data": {
      "text/plain": [
       "'0 ++$++ disability-insurance ++$++ 法律要求残疾保险吗？ ++$++ Is  Disability  Insurance  Required  By  Law?\\n'"
      ]
     },
     "execution_count": 196,
     "metadata": {},
     "output_type": "execute_result"
    }
   ],
   "source": [
    "f = open(filename1,'r',encoding = 'UTF-8')\n",
    "f.readline()"
   ]
  },
  {
   "cell_type": "code",
   "execution_count": 197,
   "metadata": {},
   "outputs": [],
   "source": [
    "def string_clean(string):\n",
    "    '''用于中文语句的筛选'''\n",
    "    return string.strip().split('++$++')[2].strip()"
   ]
  },
  {
   "cell_type": "code",
   "execution_count": 198,
   "metadata": {},
   "outputs": [],
   "source": [
    "def read_txt(filename,store_file):\n",
    "    '''用于txt文件的读取和文本摘取并保存'''    \n",
    "    f = open(filename,'r',encoding = 'UTF-8')\n",
    "    store_f = open(store_file,'w',encoding = 'UTF-8')\n",
    "    \n",
    "    for line in f.readlines():\n",
    "        data = string_clean(line)\n",
    "        store_f.write(data+'\\n')\n",
    "        \n",
    "    f.close()\n",
    "    store_f.close()\n",
    "        "
   ]
  },
  {
   "cell_type": "code",
   "execution_count": 199,
   "metadata": {},
   "outputs": [],
   "source": [
    "read_txt(filename1,store_filename1)"
   ]
  },
  {
   "cell_type": "code",
   "execution_count": 200,
   "metadata": {},
   "outputs": [],
   "source": [
    "f1 = open(store_filename1,'r',encoding='UTF-8')"
   ]
  },
  {
   "cell_type": "code",
   "execution_count": 201,
   "metadata": {},
   "outputs": [
    {
     "data": {
      "text/plain": [
       "'法律要求残疾保险吗？\\n'"
      ]
     },
     "execution_count": 201,
     "metadata": {},
     "output_type": "execute_result"
    }
   ],
   "source": [
    "f1.readline()"
   ]
  },
  {
   "cell_type": "code",
   "execution_count": 202,
   "metadata": {},
   "outputs": [],
   "source": [
    "f1.close()"
   ]
  },
  {
   "cell_type": "code",
   "execution_count": 203,
   "metadata": {},
   "outputs": [],
   "source": [
    "import re\n",
    "from collections import Counter"
   ]
  },
  {
   "cell_type": "code",
   "execution_count": 204,
   "metadata": {},
   "outputs": [],
   "source": [
    "def token(string):\n",
    "    '''regular expression'''\n",
    "    return re.findall('\\w+',string)"
   ]
  },
  {
   "cell_type": "code",
   "execution_count": 205,
   "metadata": {},
   "outputs": [],
   "source": [
    "import jieba"
   ]
  },
  {
   "cell_type": "code",
   "execution_count": 289,
   "metadata": {},
   "outputs": [
    {
     "data": {
      "text/plain": [
       "'法律要求残疾保险吗？债权人可以在死后人寿保险吗？旅行者保险有租赁保险吗？我可以开一辆没有保险的新车吗？人寿保险的现金转出价值是否应纳税？如何报告年金收入？AAA家庭保险涵盖什么？什么是简单的退休计划？'"
      ]
     },
     "execution_count": 289,
     "metadata": {},
     "output_type": "execute_result"
    }
   ],
   "source": [
    "f1 = open(store_filename1,'r',encoding='UTF-8')\n",
    "article = f1.read()\n",
    "article_clean = ''.join(str(x) for x in article.split('\\n'))\n",
    "article_clean[:100]"
   ]
  },
  {
   "cell_type": "code",
   "execution_count": 207,
   "metadata": {},
   "outputs": [
    {
     "data": {
      "text/plain": [
       "list"
      ]
     },
     "execution_count": 207,
     "metadata": {},
     "output_type": "execute_result"
    }
   ],
   "source": [
    "a = token(article_clean)\n",
    "type(a)"
   ]
  },
  {
   "cell_type": "code",
   "execution_count": 290,
   "metadata": {},
   "outputs": [
    {
     "data": {
      "text/plain": [
       "['法律要求残疾保险吗',\n",
       " '债权人可以在死后人寿保险吗',\n",
       " '旅行者保险有租赁保险吗',\n",
       " '我可以开一辆没有保险的新车吗',\n",
       " '人寿保险的现金转出价值是否应纳税',\n",
       " '如何报告年金收入',\n",
       " 'AAA家庭保险涵盖什么',\n",
       " '什么是简单的退休计划',\n",
       " '社会保险残疾保险是什么',\n",
       " '汽车保险是否预付']"
      ]
     },
     "execution_count": 290,
     "metadata": {},
     "output_type": "execute_result"
    }
   ],
   "source": [
    "a[:10]"
   ]
  },
  {
   "cell_type": "code",
   "execution_count": 209,
   "metadata": {},
   "outputs": [],
   "source": [
    "TOKEN = []"
   ]
  },
  {
   "cell_type": "code",
   "execution_count": 210,
   "metadata": {},
   "outputs": [],
   "source": [
    "for sencente in a:\n",
    "    TOKEN += jieba.cut(sencente)"
   ]
  },
  {
   "cell_type": "code",
   "execution_count": 291,
   "metadata": {},
   "outputs": [
    {
     "data": {
      "text/plain": [
       "['法律', '要求', '残疾', '保险', '吗', '债权人', '可以', '在', '死', '后']"
      ]
     },
     "execution_count": 291,
     "metadata": {},
     "output_type": "execute_result"
    }
   ],
   "source": [
    "TOKEN[:10]"
   ]
  },
  {
   "cell_type": "code",
   "execution_count": 292,
   "metadata": {},
   "outputs": [
    {
     "data": {
      "text/plain": [
       "[('保险', 5013),\n",
       " ('的', 3220),\n",
       " ('人寿保险', 2962),\n",
       " ('什么', 2677),\n",
       " ('吗', 2479),\n",
       " ('是', 2344),\n",
       " ('我', 2053),\n",
       " ('是否', 1862),\n",
       " ('可以', 1704),\n",
       " ('健康', 1513),\n",
       " ('如何', 1294),\n",
       " ('医疗保险', 1269),\n",
       " ('多少', 1252),\n",
       " ('汽车保险', 1189),\n",
       " ('在', 913),\n",
       " ('覆盖', 848),\n",
       " ('你', 827),\n",
       " ('有', 775),\n",
       " ('残疾', 724),\n",
       " ('房主', 714)]"
      ]
     },
     "execution_count": 292,
     "metadata": {},
     "output_type": "execute_result"
    }
   ],
   "source": [
    "Counter(TOKEN).most_common(20)"
   ]
  },
  {
   "cell_type": "code",
   "execution_count": 213,
   "metadata": {},
   "outputs": [],
   "source": [
    "from functools import reduce"
   ]
  },
  {
   "cell_type": "code",
   "execution_count": 214,
   "metadata": {},
   "outputs": [],
   "source": [
    "from operator import add,mul"
   ]
  },
  {
   "cell_type": "code",
   "execution_count": 215,
   "metadata": {},
   "outputs": [],
   "source": [
    "words_count = Counter(TOKEN)"
   ]
  },
  {
   "cell_type": "code",
   "execution_count": 293,
   "metadata": {},
   "outputs": [
    {
     "data": {
      "text/plain": [
       "[('保险', 5013),\n",
       " ('的', 3220),\n",
       " ('人寿保险', 2962),\n",
       " ('什么', 2677),\n",
       " ('吗', 2479),\n",
       " ('是', 2344),\n",
       " ('我', 2053),\n",
       " ('是否', 1862),\n",
       " ('可以', 1704),\n",
       " ('健康', 1513),\n",
       " ('如何', 1294),\n",
       " ('医疗保险', 1269),\n",
       " ('多少', 1252),\n",
       " ('汽车保险', 1189),\n",
       " ('在', 913),\n",
       " ('覆盖', 848),\n",
       " ('你', 827),\n",
       " ('有', 775),\n",
       " ('残疾', 724),\n",
       " ('房主', 714)]"
      ]
     },
     "execution_count": 293,
     "metadata": {},
     "output_type": "execute_result"
    }
   ],
   "source": [
    "words_count.most_common(20)"
   ]
  },
  {
   "cell_type": "markdown",
   "metadata": {},
   "source": [
    "#### 高频单词的频率分布图像"
   ]
  },
  {
   "cell_type": "code",
   "execution_count": 217,
   "metadata": {},
   "outputs": [],
   "source": [
    "frequenices = [f for w,f in words_count.most_common(100)]"
   ]
  },
  {
   "cell_type": "code",
   "execution_count": 218,
   "metadata": {},
   "outputs": [],
   "source": [
    "x = [i for i in range(100)]"
   ]
  },
  {
   "cell_type": "code",
   "execution_count": 219,
   "metadata": {},
   "outputs": [],
   "source": [
    "%matplotlib inline"
   ]
  },
  {
   "cell_type": "code",
   "execution_count": 220,
   "metadata": {},
   "outputs": [],
   "source": [
    "import matplotlib.pyplot as plt"
   ]
  },
  {
   "cell_type": "code",
   "execution_count": 221,
   "metadata": {},
   "outputs": [
    {
     "data": {
      "text/plain": [
       "[<matplotlib.lines.Line2D at 0x22fa1252e80>]"
      ]
     },
     "execution_count": 221,
     "metadata": {},
     "output_type": "execute_result"
    },
    {
     "data": {
      "image/png": "[encoded data removed]",
      "text/plain": [
       "<Figure size 432x288 with 1 Axes>"
      ]
     },
     "metadata": {
      "needs_background": "light"
     },
     "output_type": "display_data"
    }
   ],
   "source": [
    "plt.plot(x,frequenices)"
   ]
  },
  {
   "cell_type": "markdown",
   "metadata": {},
   "source": [
    "#### 使用2—gram语言模型验证语言的合理性"
   ]
  },
  {
   "cell_type": "markdown",
   "metadata": {},
   "source": [
    "###### 数学公式抽象化：计算相邻单词的概率"
   ]
  },
  {
   "cell_type": "code",
   "execution_count": 222,
   "metadata": {},
   "outputs": [],
   "source": [
    "def prob_1(word):\n",
    "    return words_count[word] / len(TOKEN)"
   ]
  },
  {
   "cell_type": "code",
   "execution_count": 223,
   "metadata": {},
   "outputs": [
    {
     "data": {
      "text/plain": [
       "0.026804365991226237"
      ]
     },
     "execution_count": 223,
     "metadata": {},
     "output_type": "execute_result"
    }
   ],
   "source": [
    "prob_1('我')"
   ]
  },
  {
   "cell_type": "code",
   "execution_count": 224,
   "metadata": {},
   "outputs": [
    {
     "data": {
      "text/plain": [
       "['法律', '要求', '残疾', '保险', '吗', '债权人', '可以', '在', '死', '后']"
      ]
     },
     "execution_count": 224,
     "metadata": {},
     "output_type": "execute_result"
    }
   ],
   "source": [
    "TOKEN[:10]"
   ]
  },
  {
   "cell_type": "code",
   "execution_count": 225,
   "metadata": {},
   "outputs": [],
   "source": [
    "TOKEN = [str(s) for s in TOKEN]"
   ]
  },
  {
   "cell_type": "code",
   "execution_count": 226,
   "metadata": {},
   "outputs": [],
   "source": [
    "TOKEN_2_GRAM = [''.join(TOKEN[i:i+2]) for i in range(len(TOKEN[:-2]))]"
   ]
  },
  {
   "cell_type": "code",
   "execution_count": 227,
   "metadata": {},
   "outputs": [
    {
     "data": {
      "text/plain": [
       "['法律要求', '要求残疾', '残疾保险', '保险吗', '吗债权人', '债权人可以', '可以在', '在死', '死后', '后人寿保险']"
      ]
     },
     "execution_count": 227,
     "metadata": {},
     "output_type": "execute_result"
    }
   ],
   "source": [
    "TOKEN_2_GRAM[:10]"
   ]
  },
  {
   "cell_type": "code",
   "execution_count": 228,
   "metadata": {},
   "outputs": [],
   "source": [
    "words_count_2 = Counter(TOKEN_2_GRAM)  #Counter函数返回字典对象"
   ]
  },
  {
   "cell_type": "code",
   "execution_count": 229,
   "metadata": {},
   "outputs": [],
   "source": [
    "def prob_2(word1,word2):\n",
    "    if word1+word2 in TOKEN_2_GRAM: return words_count_2[word1+word2]/len(TOKEN_2_GRAM)\n",
    "    else:\n",
    "        return 1/len(TOKEN_2_GRAM)"
   ]
  },
  {
   "cell_type": "code",
   "execution_count": 230,
   "metadata": {},
   "outputs": [
    {
     "data": {
      "text/plain": [
       "1.3056534795665231e-05"
      ]
     },
     "execution_count": 230,
     "metadata": {},
     "output_type": "execute_result"
    }
   ],
   "source": [
    "prob_2('我们','在')"
   ]
  },
  {
   "cell_type": "code",
   "execution_count": 231,
   "metadata": {},
   "outputs": [
    {
     "data": {
      "text/plain": [
       "1.3056534795665231e-05"
      ]
     },
     "execution_count": 231,
     "metadata": {},
     "output_type": "execute_result"
    }
   ],
   "source": [
    "prob_2('在','吃饭')"
   ]
  },
  {
   "cell_type": "markdown",
   "metadata": {},
   "source": [
    "###### 计算整个句子存在的合理性概率"
   ]
  },
  {
   "cell_type": "code",
   "execution_count": 232,
   "metadata": {},
   "outputs": [],
   "source": [
    "def cut(string): return list(jieba.cut(string))"
   ]
  },
  {
   "cell_type": "code",
   "execution_count": 233,
   "metadata": {},
   "outputs": [],
   "source": [
    "def get_probablity(sentence):\n",
    "    words = cut(sentence)\n",
    "    sentence_prob = 1\n",
    "    \n",
    "    for i,word in enumerate(words[:-1]):\n",
    "        next_ = words[i+1]\n",
    "        words_2_prob = prob_2(word,next_)\n",
    "        sentence_prob *= words_2_prob\n",
    "        \n",
    "    return sentence_prob"
   ]
  },
  {
   "cell_type": "code",
   "execution_count": 234,
   "metadata": {},
   "outputs": [
    {
     "data": {
      "text/plain": [
       "4.954132101817813e-30"
      ]
     },
     "execution_count": 234,
     "metadata": {},
     "output_type": "execute_result"
    }
   ],
   "source": [
    "get_probablity('小明今天抽奖抽到一台苹果手机')"
   ]
  },
  {
   "cell_type": "code",
   "execution_count": 240,
   "metadata": {},
   "outputs": [],
   "source": [
    "need_repared = [generate(create_grammar(first_grammar),'ninja') for _ in range(30)]"
   ]
  },
  {
   "cell_type": "code",
   "execution_count": 241,
   "metadata": {},
   "outputs": [
    {
     "data": {
      "text/plain": [
       "['千鸟打败了一个村的千鸟',\n",
       " '一个小队的忍术强的佐助使用一个村的火之国的火之国的螺旋丸',\n",
       " '一个无限月读击溃了一个忍术强的水之国的体术强的螺旋丸',\n",
       " '须佐能乎使用水之国的宇智波班',\n",
       " '这个忍术强的鸣人击溃了一个小队的神罗天征',\n",
       " '一个须佐能乎使用一个小队的佩恩',\n",
       " '一个小队的千鸟击败了无限月读',\n",
       " '一个村的体术强的佐助打倒了这个螺旋手里剑',\n",
       " '这个体术强的幻术强的幻术强的体术强的须佐能乎击溃了一个小队的忍术强的体术强的佩恩',\n",
       " '这个佩恩击败了一个佐助',\n",
       " '这个体术强的须佐能乎击败了一个村的火之国的火之国的无限月读',\n",
       " '一个千鸟打倒了这个辉夜',\n",
       " '这个火之国的火之国的水之国的螺旋丸击败了这个辉夜',\n",
       " '这个幻术强的辉夜击溃了这个火之国的鸣人',\n",
       " '一个宇智波班使用一个须佐能乎',\n",
       " '佩恩使用一个螺旋手里剑',\n",
       " '这个忍术强的无限月读击败了一个村的宇智波班',\n",
       " '体术强的宇智波班击溃了忍术强的火之国的体术强的鸣人',\n",
       " '这个火之国的宇智波班打倒了一个火之国的千鸟',\n",
       " '这个螺旋丸打倒了一个村的火之国的火之国的佐助',\n",
       " '一个小队的佩恩击溃了这个螺旋手里剑',\n",
       " '一个体术强的水之国的幻术强的辉夜使用一个螺旋丸',\n",
       " '这个幻术强的水之国的水之国的水之国的佩恩击败了一个村的幻术强的鸣人',\n",
       " '一个忍术强的鸣人击败了一个螺旋丸',\n",
       " '一个小队的神罗天征击溃了一个村的火之国的忍术强的鸣人',\n",
       " '一个小队的须佐能乎打败了一个小队的火之国的体术强的鸣人',\n",
       " '一个小队的忍术强的螺旋手里剑打倒了一个忍术强的水之国的佩恩',\n",
       " '一个村的佐助击溃了这个千鸟',\n",
       " '须佐能乎打败了一个村的水之国的忍术强的宇智波班',\n",
       " '一个小队的水之国的鸣人击溃了这个鸣人']"
      ]
     },
     "execution_count": 241,
     "metadata": {},
     "output_type": "execute_result"
    }
   ],
   "source": [
    "need_repared"
   ]
  },
  {
   "cell_type": "code",
   "execution_count": 253,
   "metadata": {},
   "outputs": [],
   "source": [
    "def compare_better(need_repared):\n",
    "    '''比较自动生成相邻句子哪个存在更合理'''\n",
    "    for i,s1 in enumerate(need_repared[:-1]):\n",
    "        s2 = need_repared[i+1]\n",
    "        p1,p2 = get_probablity(s1),get_probablity(s2)\n",
    "        \n",
    "        better = s1 if p1 > p2 else s2\n",
    "        print('{} is more possible'.format(better))\n",
    "        print('-'*4 + ' {} with probility {}'.format(s1, p1))\n",
    "        print('-'*4 + ' {} with probility {}'.format(s2, p2))"
   ]
  },
  {
   "cell_type": "code",
   "execution_count": 254,
   "metadata": {},
   "outputs": [
    {
     "name": "stdout",
     "output_type": "stream",
     "text": [
      "千鸟打败了一个村的千鸟 is more possible\n",
      "---- 千鸟打败了一个村的千鸟 with probility 3.4678924712724686e-29\n",
      "---- 一个小队的忍术强的佐助使用一个村的火之国的火之国的螺旋丸 with probility 7.132583878449733e-79\n",
      "一个无限月读击溃了一个忍术强的水之国的体术强的螺旋丸 is more possible\n",
      "---- 一个小队的忍术强的佐助使用一个村的火之国的火之国的螺旋丸 with probility 7.132583878449733e-79\n",
      "---- 一个无限月读击溃了一个忍术强的水之国的体术强的螺旋丸 with probility 4.992808714914813e-78\n",
      "须佐能乎使用水之国的宇智波班 is more possible\n",
      "---- 一个无限月读击溃了一个忍术强的水之国的体术强的螺旋丸 with probility 4.992808714914813e-78\n",
      "---- 须佐能乎使用水之国的宇智波班 with probility 2.9061078120375347e-20\n",
      "须佐能乎使用水之国的宇智波班 is more possible\n",
      "---- 须佐能乎使用水之国的宇智波班 with probility 2.9061078120375347e-20\n",
      "---- 这个忍术强的鸣人击溃了一个小队的神罗天征 with probility 1.3158466382127003e-53\n",
      "一个须佐能乎使用一个小队的佩恩 is more possible\n",
      "---- 这个忍术强的鸣人击溃了一个小队的神罗天征 with probility 1.3158466382127003e-53\n",
      "---- 一个须佐能乎使用一个小队的佩恩 with probility 4.954132101817813e-30\n",
      "一个须佐能乎使用一个小队的佩恩 is more possible\n",
      "---- 一个须佐能乎使用一个小队的佩恩 with probility 4.954132101817813e-30\n",
      "---- 一个小队的千鸟击败了无限月读 with probility 8.445462615185585e-40\n",
      "一个小队的千鸟击败了无限月读 is more possible\n",
      "---- 一个小队的千鸟击败了无限月读 with probility 8.445462615185585e-40\n",
      "---- 一个村的体术强的佐助打倒了这个螺旋手里剑 with probility 1.8797809117324288e-54\n",
      "一个村的体术强的佐助打倒了这个螺旋手里剑 is more possible\n",
      "---- 一个村的体术强的佐助打倒了这个螺旋手里剑 with probility 1.8797809117324288e-54\n",
      "---- 这个体术强的幻术强的幻术强的体术强的须佐能乎击溃了一个小队的忍术强的体术强的佩恩 with probility 9.385386518228187e-132\n",
      "这个佩恩击败了一个佐助 is more possible\n",
      "---- 这个体术强的幻术强的幻术强的体术强的须佐能乎击溃了一个小队的忍术强的体术强的佩恩 with probility 9.385386518228187e-132\n",
      "---- 这个佩恩击败了一个佐助 with probility 2.6560588437475834e-24\n",
      "这个佩恩击败了一个佐助 is more possible\n",
      "---- 这个佩恩击败了一个佐助 with probility 2.6560588437475834e-24\n",
      "---- 这个体术强的须佐能乎击败了一个村的火之国的火之国的无限月读 with probility 8.511395836843695e-88\n",
      "一个千鸟打倒了这个辉夜 is more possible\n",
      "---- 这个体术强的须佐能乎击败了一个村的火之国的火之国的无限月读 with probility 8.511395836843695e-88\n",
      "---- 一个千鸟打倒了这个辉夜 with probility 3.7943697767822626e-25\n",
      "一个千鸟打倒了这个辉夜 is more possible\n",
      "---- 一个千鸟打倒了这个辉夜 with probility 3.7943697767822626e-25\n",
      "---- 这个火之国的火之国的水之国的螺旋丸击败了这个辉夜 with probility 2.454342488226177e-59\n",
      "这个幻术强的辉夜击溃了这个火之国的鸣人 is more possible\n",
      "---- 这个火之国的火之国的水之国的螺旋丸击败了这个辉夜 with probility 2.454342488226177e-59\n",
      "---- 这个幻术强的辉夜击溃了这个火之国的鸣人 with probility 1.8797809117324288e-54\n",
      "一个宇智波班使用一个须佐能乎 is more possible\n",
      "---- 这个幻术强的辉夜击溃了这个火之国的鸣人 with probility 1.8797809117324288e-54\n",
      "---- 一个宇智波班使用一个须佐能乎 with probility 2.9061078120375347e-20\n",
      "佩恩使用一个螺旋手里剑 is more possible\n",
      "---- 一个宇智波班使用一个须佐能乎 with probility 2.9061078120375347e-20\n",
      "---- 佩恩使用一个螺旋手里剑 with probility 2.9061078120375347e-20\n",
      "佩恩使用一个螺旋手里剑 is more possible\n",
      "---- 佩恩使用一个螺旋手里剑 with probility 2.9061078120375347e-20\n",
      "---- 这个忍术强的无限月读击败了一个村的宇智波班 with probility 1.718039741758324e-58\n",
      "这个忍术强的无限月读击败了一个村的宇智波班 is more possible\n",
      "---- 这个忍术强的无限月读击败了一个村的宇智波班 with probility 1.718039741758324e-58\n",
      "---- 体术强的宇智波班击溃了忍术强的火之国的体术强的鸣人 with probility 5.46284599250465e-74\n",
      "这个火之国的宇智波班打倒了一个火之国的千鸟 is more possible\n",
      "---- 体术强的宇智波班击溃了忍术强的火之国的体术强的鸣人 with probility 5.46284599250465e-74\n",
      "---- 这个火之国的宇智波班打倒了一个火之国的千鸟 with probility 7.718793355046233e-44\n",
      "这个火之国的宇智波班打倒了一个火之国的千鸟 is more possible\n",
      "---- 这个火之国的宇智波班打倒了一个火之国的千鸟 with probility 7.718793355046233e-44\n",
      "---- 这个螺旋丸打倒了一个村的火之国的火之国的佐助 with probility 1.718039741758324e-58\n",
      "一个小队的佩恩击溃了这个螺旋手里剑 is more possible\n",
      "---- 这个螺旋丸打倒了一个村的火之国的火之国的佐助 with probility 1.718039741758324e-58\n",
      "---- 一个小队的佩恩击溃了这个螺旋手里剑 with probility 8.445462615185585e-40\n",
      "一个小队的佩恩击溃了这个螺旋手里剑 is more possible\n",
      "---- 一个小队的佩恩击溃了这个螺旋手里剑 with probility 8.445462615185585e-40\n",
      "---- 一个体术强的水之国的幻术强的辉夜使用一个螺旋丸 with probility 3.204520809800466e-64\n",
      "一个体术强的水之国的幻术强的辉夜使用一个螺旋丸 is more possible\n",
      "---- 一个体术强的水之国的幻术强的辉夜使用一个螺旋丸 with probility 3.204520809800466e-64\n",
      "---- 这个幻术强的水之国的水之国的水之国的佩恩击败了一个村的幻术强的鸣人 with probility 1.4509640410423017e-97\n",
      "一个忍术强的鸣人击败了一个螺旋丸 is more possible\n",
      "---- 这个幻术强的水之国的水之国的水之国的佩恩击败了一个村的幻术强的鸣人 with probility 1.4509640410423017e-97\n",
      "---- 一个忍术强的鸣人击败了一个螺旋丸 with probility 1.0078069402071071e-48\n",
      "一个忍术强的鸣人击败了一个螺旋丸 is more possible\n",
      "---- 一个忍术强的鸣人击败了一个螺旋丸 with probility 1.0078069402071071e-48\n",
      "---- 一个小队的神罗天征击溃了一个村的火之国的忍术强的鸣人 with probility 3.823992194753255e-73\n",
      "一个小队的神罗天征击溃了一个村的火之国的忍术强的鸣人 is more possible\n",
      "---- 一个小队的神罗天征击溃了一个村的火之国的忍术强的鸣人 with probility 3.823992194753255e-73\n",
      "---- 一个小队的须佐能乎打败了一个小队的火之国的体术强的鸣人 with probility 6.518878071438586e-83\n",
      "一个小队的忍术强的螺旋手里剑打倒了一个忍术强的水之国的佩恩 is more possible\n",
      "---- 一个小队的须佐能乎打败了一个小队的火之国的体术强的鸣人 with probility 6.518878071438586e-83\n",
      "---- 一个小队的忍术强的螺旋手里剑打倒了一个忍术强的水之国的佩恩 with probility 4.992808714914812e-78\n",
      "一个村的佐助击溃了这个千鸟 is more possible\n",
      "---- 一个小队的忍术强的螺旋手里剑打倒了一个忍术强的水之国的佩恩 with probility 4.992808714914812e-78\n",
      "---- 一个村的佐助击溃了这个千鸟 with probility 6.46837981697064e-35\n",
      "一个村的佐助击溃了这个千鸟 is more possible\n",
      "---- 一个村的佐助击溃了这个千鸟 with probility 6.46837981697064e-35\n",
      "---- 须佐能乎打败了一个村的水之国的忍术强的宇智波班 with probility 1.3158466382127003e-53\n",
      "一个小队的水之国的鸣人击溃了这个鸣人 is more possible\n",
      "---- 须佐能乎打败了一个村的水之国的忍术强的宇智波班 with probility 1.3158466382127003e-53\n",
      "---- 一个小队的水之国的鸣人击溃了这个鸣人 with probility 1.4397242002958673e-49\n"
     ]
    }
   ],
   "source": [
    "compare_better(need_repared)"
   ]
  },
  {
   "cell_type": "code",
   "execution_count": 257,
   "metadata": {},
   "outputs": [
    {
     "name": "stdout",
     "output_type": "stream",
     "text": [
      "明天晚上请你吃大餐，我们一起吃苹果 is more possible\n",
      "---- 今天晚上请你吃大餐，我们一起吃日料 with probility 1.4397242002958673e-49\n",
      "---- 明天晚上请你吃大餐，我们一起吃苹果 with probility 1.4397242002958673e-49\n",
      "真是一只好看的小猫 is more possible\n",
      "---- 真事一只好看的小猫 with probility 3.7943697767822626e-25\n",
      "---- 真是一只好看的小猫 with probility 2.9061078120375347e-20\n",
      "今晚我去吃火锅 is more possible\n",
      "---- 今晚我去吃火锅 with probility 2.2257879732395474e-15\n",
      "---- 今晚火锅去吃我 with probility 2.9061078120375347e-20\n",
      "养乐多绿来一杯 is more possible\n",
      "---- 洋葱奶昔来一杯 with probility 2.2257879732395474e-15\n",
      "---- 养乐多绿来一杯 with probility 1.7047310087041692e-10\n"
     ]
    }
   ],
   "source": [
    "need_compared_test = [\n",
    "    \"今天晚上请你吃大餐，我们一起吃日料 明天晚上请你吃大餐，我们一起吃苹果\",\n",
    "    \"真事一只好看的小猫 真是一只好看的小猫\",\n",
    "    \"今晚我去吃火锅 今晚火锅去吃我\",\n",
    "    \"洋葱奶昔来一杯 养乐多绿来一杯\"\n",
    "]\n",
    "for s in need_compared_test:\n",
    "    s1,s2 = s.split()\n",
    "    p1,p2 = get_probablity(s1),get_probablity(s2)\n",
    "    \n",
    "    better = s1 if p1 > p2 else s2\n",
    "    print('{} is more possible'.format(better))\n",
    "    print('-'*4 + ' {} with probility {}'.format(s1, p1))\n",
    "    print('-'*4 + ' {} with probility {}'.format(s2, p2))"
   ]
  },
  {
   "cell_type": "markdown",
   "metadata": {},
   "source": [
    "### 2.获得最优质的语言"
   ]
  },
  {
   "cell_type": "code",
   "execution_count": 259,
   "metadata": {},
   "outputs": [],
   "source": [
    "def generate_best(grammar,target,n):\n",
    "    sentence_prob_dict = {}\n",
    "    \n",
    "    for sentence in [generate(grammar,target) for _ in range(n)]:\n",
    "            sentence_prob = get_probablity(sentence)\n",
    "            sentence_prob_dict[sentence] = sentence_prob\n",
    "    \n",
    "    return sorted(sentence_prob_dict,key = lambda x:x[1],reverse = True)[0]"
   ]
  },
  {
   "cell_type": "code",
   "execution_count": 269,
   "metadata": {},
   "outputs": [
    {
     "data": {
      "text/plain": [
       "'路飞拥有武装色霸气'"
      ]
     },
     "execution_count": 269,
     "metadata": {},
     "output_type": "execute_result"
    }
   ],
   "source": [
    "generate_best(create_grammar(second_grammar),'poacher',1000)"
   ]
  },
  {
   "cell_type": "code",
   "execution_count": 271,
   "metadata": {},
   "outputs": [
    {
     "data": {
      "text/plain": [
       "'路飞拥有见闻色霸气'"
      ]
     },
     "execution_count": 271,
     "metadata": {},
     "output_type": "execute_result"
    }
   ],
   "source": [
    "generate_best(create_grammar(second_grammar),'poacher',100)"
   ]
  },
  {
   "cell_type": "code",
   "execution_count": 273,
   "metadata": {},
   "outputs": [
    {
     "data": {
      "text/plain": [
       "'千鸟打倒了一个村的火之国的鸣人'"
      ]
     },
     "execution_count": 273,
     "metadata": {},
     "output_type": "execute_result"
    }
   ],
   "source": [
    "generate_best(create_grammar(first_grammar),'ninja',500)"
   ]
  },
  {
   "cell_type": "code",
   "execution_count": 283,
   "metadata": {},
   "outputs": [
    {
     "name": "stdout",
     "output_type": "stream",
     "text": [
      "路飞吃过面子果实\n",
      "路飞拥有见闻色霸气\n",
      "路飞吃过武装色霸气\n",
      "路飞吃过霸王色霸气\n",
      "路飞拥有武装色霸气\n",
      "路飞吃过武装色霸气\n",
      "路飞拥有见闻色霸气\n",
      "路飞拥有橡胶果实\n",
      "路飞拥有霸王色霸气\n",
      "路飞拥有面子果实\n"
     ]
    }
   ],
   "source": [
    "for _ in range(10):\n",
    "    print(generate_best(create_grammar(second_grammar),'poacher',1000))"
   ]
  },
  {
   "cell_type": "code",
   "execution_count": 282,
   "metadata": {},
   "outputs": [
    {
     "name": "stdout",
     "output_type": "stream",
     "text": [
      "千鸟使用这个忍术强的火之国的火之国的体术强的幻术强的火之国的体术强的螺旋丸\n",
      "千鸟打败了一个螺旋丸\n",
      "千鸟打倒了火之国的螺旋手里剑\n",
      "千鸟击溃了一个小队的佩恩\n",
      "无限月读击溃了体术强的须佐能乎\n",
      "千鸟打败了这个辉夜\n",
      "千鸟击败了佩恩\n",
      "千鸟打倒了一个千鸟\n",
      "千鸟击败了一个村的佩恩\n",
      "千鸟打败了一个须佐能乎\n"
     ]
    }
   ],
   "source": [
    "for _ in range(10):\n",
    "    print(generate_best(create_grammar(first_grammar),'ninja',500))"
   ]
  },
  {
   "cell_type": "markdown",
   "metadata": {},
   "source": [
    "### Q: 这个模型有什么问题？ 你准备如何提升？"
   ]
  },
  {
   "cell_type": "markdown",
   "metadata": {},
   "source": [
    "##### Ans:问题：挑选的数据集太小，不能正确的验证合理性；数据集是保险行业相关的问答与自己设定的动漫人物的语法对象不相关；"
   ]
  },
  {
   "cell_type": "markdown",
   "metadata": {},
   "source": [
    "##### 提升：使用不同性质不同方面的数据集、掌握爬虫后，爬取大量的相关数据集供测试；了解其他的概率模型并分析出利弊，挑选适合实验数据集的模型"
   ]
  }
 ],
 "metadata": {
  "kernelspec": {
   "display_name": "Python 3",
   "language": "python",
   "name": "python3"
  },
  "language_info": {
   "codemirror_mode": {
    "name": "ipython",
    "version": 3
   },
   "file_extension": ".py",
   "mimetype": "text/x-python",
   "name": "python",
   "nbconvert_exporter": "python",
   "pygments_lexer": "ipython3",
   "version": "3.7.1"
  }
 },
 "nbformat": 4,
 "nbformat_minor": 2
}
